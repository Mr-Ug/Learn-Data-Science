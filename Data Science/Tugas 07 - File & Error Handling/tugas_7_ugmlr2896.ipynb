{
 "cells": [
  {
   "cell_type": "markdown",
   "metadata": {
    "id": "xSKJwb-wf5_d"
   },
   "source": [
    "1. Buatlah sebuah fungsi untuk membaca dan menampilkan keseluruhan file txt dengan\n",
    "input fungsi berupa nama file. "
   ]
  },
  {
   "cell_type": "code",
   "execution_count": 29,
   "metadata": {
    "id": "sDhGp38sf0l6"
   },
   "outputs": [],
   "source": [
    "def read_file(filename):\n",
    "  file = open(filename)\n",
    "  data = file.read()\n",
    "  print(data)\n",
    "  \n",
    "# read_file()\n"
   ]
  },
  {
   "cell_type": "code",
   "execution_count": 31,
   "metadata": {},
   "outputs": [
    {
     "name": "stdout",
     "output_type": "stream",
     "text": [
      "Kata programming mungkin sudah tidak asing lagi di telinga kita. \n",
      "Programming sangat erat kaitannya dengan industri IT. \n",
      "Banyak hal yang telah dihasilkan dari programming yang saat ini sudah jadi konsumsi kita sehari-hari, seperti produk-produk microsoft, facebook, apple dan lain sebagainya.\n"
     ]
    }
   ],
   "source": [
    "read_file(\"src/1.txt\")"
   ]
  },
  {
   "cell_type": "code",
   "execution_count": 33,
   "metadata": {},
   "outputs": [
    {
     "name": "stdout",
     "output_type": "stream",
     "text": [
      "[{\"Country\":\"Indonesia\",\"CountryCode\":\"ID\",\"Province\":\"\",\"City\":\"\",\"CityCode\":\"\",\"Lat\":\"-0.79\",\"Lon\":\"113.92\",\"Cases\":57770,\"Status\":\"confirmed\",\"Date\":\"2020-07-01T00:00:00Z\"},{\"Country\":\"Indonesia\",\"CountryCode\":\"ID\",\"Province\":\"\",\"City\":\"\",\"CityCode\":\"\",\"Lat\":\"-0.79\",\"Lon\":\"113.92\",\"Cases\":59394,\"Status\":\"confirmed\",\"Date\":\"2020-07-02T00:00:00Z\"},{\"Country\":\"Indonesia\",\"CountryCode\":\"ID\",\"Province\":\"\",\"City\":\"\",\"CityCode\":\"\",\"Lat\":\"-0.79\",\"Lon\":\"113.92\",\"Cases\":60695,\"Status\":\"confirmed\",\"Date\":\"2020-07-03T00:00:00Z\"},{\"Country\":\"Indonesia\",\"CountryCode\":\"ID\",\"Province\":\"\",\"City\":\"\",\"CityCode\":\"\",\"Lat\":\"-0.79\",\"Lon\":\"113.92\",\"Cases\":62142,\"Status\":\"confirmed\",\"Date\":\"2020-07-04T00:00:00Z\"},{\"Country\":\"Indonesia\",\"CountryCode\":\"ID\",\"Province\":\"\",\"City\":\"\",\"CityCode\":\"\",\"Lat\":\"-0.79\",\"Lon\":\"113.92\",\"Cases\":63749,\"Status\":\"confirmed\",\"Date\":\"2020-07-05T00:00:00Z\"},{\"Country\":\"Indonesia\",\"CountryCode\":\"ID\",\"Province\":\"\",\"City\":\"\",\"CityCode\":\"\",\"Lat\":\"-0.79\",\"Lon\":\"113.92\",\"Cases\":64958,\"Status\":\"confirmed\",\"Date\":\"2020-07-06T00:00:00Z\"},{\"Country\":\"Indonesia\",\"CountryCode\":\"ID\",\"Province\":\"\",\"City\":\"\",\"CityCode\":\"\",\"Lat\":\"-0.79\",\"Lon\":\"113.92\",\"Cases\":66226,\"Status\":\"confirmed\",\"Date\":\"2020-07-07T00:00:00Z\"},{\"Country\":\"Indonesia\",\"CountryCode\":\"ID\",\"Province\":\"\",\"City\":\"\",\"CityCode\":\"\",\"Lat\":\"-0.79\",\"Lon\":\"113.92\",\"Cases\":68079,\"Status\":\"confirmed\",\"Date\":\"2020-07-08T00:00:00Z\"},{\"Country\":\"Indonesia\",\"CountryCode\":\"ID\",\"Province\":\"\",\"City\":\"\",\"CityCode\":\"\",\"Lat\":\"-0.79\",\"Lon\":\"113.92\",\"Cases\":70736,\"Status\":\"confirmed\",\"Date\":\"2020-07-09T00:00:00Z\"},{\"Country\":\"Indonesia\",\"CountryCode\":\"ID\",\"Province\":\"\",\"City\":\"\",\"CityCode\":\"\",\"Lat\":\"-0.79\",\"Lon\":\"113.92\",\"Cases\":72347,\"Status\":\"confirmed\",\"Date\":\"2020-07-10T00:00:00Z\"},{\"Country\":\"Indonesia\",\"CountryCode\":\"ID\",\"Province\":\"\",\"City\":\"\",\"CityCode\":\"\",\"Lat\":\"-0.79\",\"Lon\":\"113.92\",\"Cases\":74018,\"Status\":\"confirmed\",\"Date\":\"2020-07-11T00:00:00Z\"},{\"Country\":\"Indonesia\",\"CountryCode\":\"ID\",\"Province\":\"\",\"City\":\"\",\"CityCode\":\"\",\"Lat\":\"-0.79\",\"Lon\":\"113.92\",\"Cases\":75699,\"Status\":\"confirmed\",\"Date\":\"2020-07-12T00:00:00Z\"},{\"Country\":\"Indonesia\",\"CountryCode\":\"ID\",\"Province\":\"\",\"City\":\"\",\"CityCode\":\"\",\"Lat\":\"-0.79\",\"Lon\":\"113.92\",\"Cases\":76981,\"Status\":\"confirmed\",\"Date\":\"2020-07-13T00:00:00Z\"},{\"Country\":\"Indonesia\",\"CountryCode\":\"ID\",\"Province\":\"\",\"City\":\"\",\"CityCode\":\"\",\"Lat\":\"-0.79\",\"Lon\":\"113.92\",\"Cases\":78572,\"Status\":\"confirmed\",\"Date\":\"2020-07-14T00:00:00Z\"},{\"Country\":\"Indonesia\",\"CountryCode\":\"ID\",\"Province\":\"\",\"City\":\"\",\"CityCode\":\"\",\"Lat\":\"-0.79\",\"Lon\":\"113.92\",\"Cases\":80094,\"Status\":\"confirmed\",\"Date\":\"2020-07-15T00:00:00Z\"},{\"Country\":\"Indonesia\",\"CountryCode\":\"ID\",\"Province\":\"\",\"City\":\"\",\"CityCode\":\"\",\"Lat\":\"-0.79\",\"Lon\":\"113.92\",\"Cases\":81668,\"Status\":\"confirmed\",\"Date\":\"2020-07-16T00:00:00Z\"},{\"Country\":\"Indonesia\",\"CountryCode\":\"ID\",\"Province\":\"\",\"City\":\"\",\"CityCode\":\"\",\"Lat\":\"-0.79\",\"Lon\":\"113.92\",\"Cases\":83130,\"Status\":\"confirmed\",\"Date\":\"2020-07-17T00:00:00Z\"},{\"Country\":\"Indonesia\",\"CountryCode\":\"ID\",\"Province\":\"\",\"City\":\"\",\"CityCode\":\"\",\"Lat\":\"-0.79\",\"Lon\":\"113.92\",\"Cases\":84882,\"Status\":\"confirmed\",\"Date\":\"2020-07-18T00:00:00Z\"},{\"Country\":\"Indonesia\",\"CountryCode\":\"ID\",\"Province\":\"\",\"City\":\"\",\"CityCode\":\"\",\"Lat\":\"-0.79\",\"Lon\":\"113.92\",\"Cases\":86521,\"Status\":\"confirmed\",\"Date\":\"2020-07-19T00:00:00Z\"},{\"Country\":\"Indonesia\",\"CountryCode\":\"ID\",\"Province\":\"\",\"City\":\"\",\"CityCode\":\"\",\"Lat\":\"-0.79\",\"Lon\":\"113.92\",\"Cases\":88214,\"Status\":\"confirmed\",\"Date\":\"2020-07-20T00:00:00Z\"},{\"Country\":\"Indonesia\",\"CountryCode\":\"ID\",\"Province\":\"\",\"City\":\"\",\"CityCode\":\"\",\"Lat\":\"-0.79\",\"Lon\":\"113.92\",\"Cases\":89869,\"Status\":\"confirmed\",\"Date\":\"2020-07-21T00:00:00Z\"},{\"Country\":\"Indonesia\",\"CountryCode\":\"ID\",\"Province\":\"\",\"City\":\"\",\"CityCode\":\"\",\"Lat\":\"-0.79\",\"Lon\":\"113.92\",\"Cases\":91751,\"Status\":\"confirmed\",\"Date\":\"2020-07-22T00:00:00Z\"},{\"Country\":\"Indonesia\",\"CountryCode\":\"ID\",\"Province\":\"\",\"City\":\"\",\"CityCode\":\"\",\"Lat\":\"-0.79\",\"Lon\":\"113.92\",\"Cases\":93657,\"Status\":\"confirmed\",\"Date\":\"2020-07-23T00:00:00Z\"},{\"Country\":\"Indonesia\",\"CountryCode\":\"ID\",\"Province\":\"\",\"City\":\"\",\"CityCode\":\"\",\"Lat\":\"-0.79\",\"Lon\":\"113.92\",\"Cases\":95418,\"Status\":\"confirmed\",\"Date\":\"2020-07-24T00:00:00Z\"},{\"Country\":\"Indonesia\",\"CountryCode\":\"ID\",\"Province\":\"\",\"City\":\"\",\"CityCode\":\"\",\"Lat\":\"-0.79\",\"Lon\":\"113.92\",\"Cases\":97286,\"Status\":\"confirmed\",\"Date\":\"2020-07-25T00:00:00Z\"},{\"Country\":\"Indonesia\",\"CountryCode\":\"ID\",\"Province\":\"\",\"City\":\"\",\"CityCode\":\"\",\"Lat\":\"-0.79\",\"Lon\":\"113.92\",\"Cases\":98778,\"Status\":\"confirmed\",\"Date\":\"2020-07-26T00:00:00Z\"},{\"Country\":\"Indonesia\",\"CountryCode\":\"ID\",\"Province\":\"\",\"City\":\"\",\"CityCode\":\"\",\"Lat\":\"-0.79\",\"Lon\":\"113.92\",\"Cases\":100303,\"Status\":\"confirmed\",\"Date\":\"2020-07-27T00:00:00Z\"},{\"Country\":\"Indonesia\",\"CountryCode\":\"ID\",\"Province\":\"\",\"City\":\"\",\"CityCode\":\"\",\"Lat\":\"-0.79\",\"Lon\":\"113.92\",\"Cases\":102051,\"Status\":\"confirmed\",\"Date\":\"2020-07-28T00:00:00Z\"},{\"Country\":\"Indonesia\",\"CountryCode\":\"ID\",\"Province\":\"\",\"City\":\"\",\"CityCode\":\"\",\"Lat\":\"-0.79\",\"Lon\":\"113.92\",\"Cases\":104432,\"Status\":\"confirmed\",\"Date\":\"2020-07-29T00:00:00Z\"},{\"Country\":\"Indonesia\",\"CountryCode\":\"ID\",\"Province\":\"\",\"City\":\"\",\"CityCode\":\"\",\"Lat\":\"-0.79\",\"Lon\":\"113.92\",\"Cases\":106336,\"Status\":\"confirmed\",\"Date\":\"2020-07-30T00:00:00Z\"},{\"Country\":\"Indonesia\",\"CountryCode\":\"ID\",\"Province\":\"\",\"City\":\"\",\"CityCode\":\"\",\"Lat\":\"-0.79\",\"Lon\":\"113.92\",\"Cases\":108376,\"Status\":\"confirmed\",\"Date\":\"2020-07-31T00:00:00Z\"},{\"Country\":\"Indonesia\",\"CountryCode\":\"ID\",\"Province\":\"\",\"City\":\"\",\"CityCode\":\"\",\"Lat\":\"-0.79\",\"Lon\":\"113.92\",\"Cases\":109936,\"Status\":\"confirmed\",\"Date\":\"2020-08-01T00:00:00Z\"},{\"Country\":\"Indonesia\",\"CountryCode\":\"ID\",\"Province\":\"\",\"City\":\"\",\"CityCode\":\"\",\"Lat\":\"-0.79\",\"Lon\":\"113.92\",\"Cases\":111455,\"Status\":\"confirmed\",\"Date\":\"2020-08-02T00:00:00Z\"},{\"Country\":\"Indonesia\",\"CountryCode\":\"ID\",\"Province\":\"\",\"City\":\"\",\"CityCode\":\"\",\"Lat\":\"-0.79\",\"Lon\":\"113.92\",\"Cases\":113134,\"Status\":\"confirmed\",\"Date\":\"2020-08-03T00:00:00Z\"},{\"Country\":\"Indonesia\",\"CountryCode\":\"ID\",\"Province\":\"\",\"City\":\"\",\"CityCode\":\"\",\"Lat\":\"-0.79\",\"Lon\":\"113.92\",\"Cases\":115056,\"Status\":\"confirmed\",\"Date\":\"2020-08-04T00:00:00Z\"},{\"Country\":\"Indonesia\",\"CountryCode\":\"ID\",\"Province\":\"\",\"City\":\"\",\"CityCode\":\"\",\"Lat\":\"-0.79\",\"Lon\":\"113.92\",\"Cases\":116871,\"Status\":\"confirmed\",\"Date\":\"2020-08-05T00:00:00Z\"},{\"Country\":\"Indonesia\",\"CountryCode\":\"ID\",\"Province\":\"\",\"City\":\"\",\"CityCode\":\"\",\"Lat\":\"-0.79\",\"Lon\":\"113.92\",\"Cases\":118753,\"Status\":\"confirmed\",\"Date\":\"2020-08-06T00:00:00Z\"},{\"Country\":\"Indonesia\",\"CountryCode\":\"ID\",\"Province\":\"\",\"City\":\"\",\"CityCode\":\"\",\"Lat\":\"-0.79\",\"Lon\":\"113.92\",\"Cases\":121226,\"Status\":\"confirmed\",\"Date\":\"2020-08-07T00:00:00Z\"},{\"Country\":\"Indonesia\",\"CountryCode\":\"ID\",\"Province\":\"\",\"City\":\"\",\"CityCode\":\"\",\"Lat\":\"-0.79\",\"Lon\":\"113.92\",\"Cases\":123503,\"Status\":\"confirmed\",\"Date\":\"2020-08-08T00:00:00Z\"},{\"Country\":\"Indonesia\",\"CountryCode\":\"ID\",\"Province\":\"\",\"City\":\"\",\"CityCode\":\"\",\"Lat\":\"-0.79\",\"Lon\":\"113.92\",\"Cases\":125396,\"Status\":\"confirmed\",\"Date\":\"2020-08-09T00:00:00Z\"},{\"Country\":\"Indonesia\",\"CountryCode\":\"ID\",\"Province\":\"\",\"City\":\"\",\"CityCode\":\"\",\"Lat\":\"-0.79\",\"Lon\":\"113.92\",\"Cases\":127083,\"Status\":\"confirmed\",\"Date\":\"2020-08-10T00:00:00Z\"},{\"Country\":\"Indonesia\",\"CountryCode\":\"ID\",\"Province\":\"\",\"City\":\"\",\"CityCode\":\"\",\"Lat\":\"-0.79\",\"Lon\":\"113.92\",\"Cases\":128776,\"Status\":\"confirmed\",\"Date\":\"2020-08-11T00:00:00Z\"},{\"Country\":\"Indonesia\",\"CountryCode\":\"ID\",\"Province\":\"\",\"City\":\"\",\"CityCode\":\"\",\"Lat\":\"-0.79\",\"Lon\":\"113.92\",\"Cases\":130718,\"Status\":\"confirmed\",\"Date\":\"2020-08-12T00:00:00Z\"},{\"Country\":\"Indonesia\",\"CountryCode\":\"ID\",\"Province\":\"\",\"City\":\"\",\"CityCode\":\"\",\"Lat\":\"-0.79\",\"Lon\":\"113.92\",\"Cases\":132816,\"Status\":\"confirmed\",\"Date\":\"2020-08-13T00:00:00Z\"},{\"Country\":\"Indonesia\",\"CountryCode\":\"ID\",\"Province\":\"\",\"City\":\"\",\"CityCode\":\"\",\"Lat\":\"-0.79\",\"Lon\":\"113.92\",\"Cases\":135123,\"Status\":\"confirmed\",\"Date\":\"2020-08-14T00:00:00Z\"},{\"Country\":\"Indonesia\",\"CountryCode\":\"ID\",\"Province\":\"\",\"City\":\"\",\"CityCode\":\"\",\"Lat\":\"-0.79\",\"Lon\":\"113.92\",\"Cases\":137468,\"Status\":\"confirmed\",\"Date\":\"2020-08-15T00:00:00Z\"},{\"Country\":\"Indonesia\",\"CountryCode\":\"ID\",\"Province\":\"\",\"City\":\"\",\"CityCode\":\"\",\"Lat\":\"-0.79\",\"Lon\":\"113.92\",\"Cases\":139549,\"Status\":\"confirmed\",\"Date\":\"2020-08-16T00:00:00Z\"},{\"Country\":\"Indonesia\",\"CountryCode\":\"ID\",\"Province\":\"\",\"City\":\"\",\"CityCode\":\"\",\"Lat\":\"-0.79\",\"Lon\":\"113.92\",\"Cases\":141370,\"Status\":\"confirmed\",\"Date\":\"2020-08-17T00:00:00Z\"},{\"Country\":\"Indonesia\",\"CountryCode\":\"ID\",\"Province\":\"\",\"City\":\"\",\"CityCode\":\"\",\"Lat\":\"-0.79\",\"Lon\":\"113.92\",\"Cases\":143043,\"Status\":\"confirmed\",\"Date\":\"2020-08-18T00:00:00Z\"},{\"Country\":\"Indonesia\",\"CountryCode\":\"ID\",\"Province\":\"\",\"City\":\"\",\"CityCode\":\"\",\"Lat\":\"-0.79\",\"Lon\":\"113.92\",\"Cases\":144945,\"Status\":\"confirmed\",\"Date\":\"2020-08-19T00:00:00Z\"},{\"Country\":\"Indonesia\",\"CountryCode\":\"ID\",\"Province\":\"\",\"City\":\"\",\"CityCode\":\"\",\"Lat\":\"-0.79\",\"Lon\":\"113.92\",\"Cases\":147211,\"Status\":\"confirmed\",\"Date\":\"2020-08-20T00:00:00Z\"},{\"Country\":\"Indonesia\",\"CountryCode\":\"ID\",\"Province\":\"\",\"City\":\"\",\"CityCode\":\"\",\"Lat\":\"-0.79\",\"Lon\":\"113.92\",\"Cases\":149408,\"Status\":\"confirmed\",\"Date\":\"2020-08-21T00:00:00Z\"},{\"Country\":\"Indonesia\",\"CountryCode\":\"ID\",\"Province\":\"\",\"City\":\"\",\"CityCode\":\"\",\"Lat\":\"-0.79\",\"Lon\":\"113.92\",\"Cases\":151498,\"Status\":\"confirmed\",\"Date\":\"2020-08-22T00:00:00Z\"},{\"Country\":\"Indonesia\",\"CountryCode\":\"ID\",\"Province\":\"\",\"City\":\"\",\"CityCode\":\"\",\"Lat\":\"-0.79\",\"Lon\":\"113.92\",\"Cases\":153535,\"Status\":\"confirmed\",\"Date\":\"2020-08-23T00:00:00Z\"},{\"Country\":\"Indonesia\",\"CountryCode\":\"ID\",\"Province\":\"\",\"City\":\"\",\"CityCode\":\"\",\"Lat\":\"-0.79\",\"Lon\":\"113.92\",\"Cases\":155412,\"Status\":\"confirmed\",\"Date\":\"2020-08-24T00:00:00Z\"},{\"Country\":\"Indonesia\",\"CountryCode\":\"ID\",\"Province\":\"\",\"City\":\"\",\"CityCode\":\"\",\"Lat\":\"-0.79\",\"Lon\":\"113.92\",\"Cases\":157859,\"Status\":\"confirmed\",\"Date\":\"2020-08-25T00:00:00Z\"},{\"Country\":\"Indonesia\",\"CountryCode\":\"ID\",\"Province\":\"\",\"City\":\"\",\"CityCode\":\"\",\"Lat\":\"-0.79\",\"Lon\":\"113.92\",\"Cases\":160165,\"Status\":\"confirmed\",\"Date\":\"2020-08-26T00:00:00Z\"},{\"Country\":\"Indonesia\",\"CountryCode\":\"ID\",\"Province\":\"\",\"City\":\"\",\"CityCode\":\"\",\"Lat\":\"-0.79\",\"Lon\":\"113.92\",\"Cases\":162884,\"Status\":\"confirmed\",\"Date\":\"2020-08-27T00:00:00Z\"},{\"Country\":\"Indonesia\",\"CountryCode\":\"ID\",\"Province\":\"\",\"City\":\"\",\"CityCode\":\"\",\"Lat\":\"-0.79\",\"Lon\":\"113.92\",\"Cases\":165887,\"Status\":\"confirmed\",\"Date\":\"2020-08-28T00:00:00Z\"},{\"Country\":\"Indonesia\",\"CountryCode\":\"ID\",\"Province\":\"\",\"City\":\"\",\"CityCode\":\"\",\"Lat\":\"-0.79\",\"Lon\":\"113.92\",\"Cases\":169195,\"Status\":\"confirmed\",\"Date\":\"2020-08-29T00:00:00Z\"},{\"Country\":\"Indonesia\",\"CountryCode\":\"ID\",\"Province\":\"\",\"City\":\"\",\"CityCode\":\"\",\"Lat\":\"-0.79\",\"Lon\":\"113.92\",\"Cases\":172053,\"Status\":\"confirmed\",\"Date\":\"2020-08-30T00:00:00Z\"},{\"Country\":\"Indonesia\",\"CountryCode\":\"ID\",\"Province\":\"\",\"City\":\"\",\"CityCode\":\"\",\"Lat\":\"-0.79\",\"Lon\":\"113.92\",\"Cases\":174796,\"Status\":\"confirmed\",\"Date\":\"2020-08-31T00:00:00Z\"},{\"Country\":\"Indonesia\",\"CountryCode\":\"ID\",\"Province\":\"\",\"City\":\"\",\"CityCode\":\"\",\"Lat\":\"-0.79\",\"Lon\":\"113.92\",\"Cases\":177571,\"Status\":\"confirmed\",\"Date\":\"2020-09-01T00:00:00Z\"},{\"Country\":\"Indonesia\",\"CountryCode\":\"ID\",\"Province\":\"\",\"City\":\"\",\"CityCode\":\"\",\"Lat\":\"-0.79\",\"Lon\":\"113.92\",\"Cases\":180646,\"Status\":\"confirmed\",\"Date\":\"2020-09-02T00:00:00Z\"},{\"Country\":\"Indonesia\",\"CountryCode\":\"ID\",\"Province\":\"\",\"City\":\"\",\"CityCode\":\"\",\"Lat\":\"-0.79\",\"Lon\":\"113.92\",\"Cases\":184268,\"Status\":\"confirmed\",\"Date\":\"2020-09-03T00:00:00Z\"},{\"Country\":\"Indonesia\",\"CountryCode\":\"ID\",\"Province\":\"\",\"City\":\"\",\"CityCode\":\"\",\"Lat\":\"-0.79\",\"Lon\":\"113.92\",\"Cases\":187537,\"Status\":\"confirmed\",\"Date\":\"2020-09-04T00:00:00Z\"},{\"Country\":\"Indonesia\",\"CountryCode\":\"ID\",\"Province\":\"\",\"City\":\"\",\"CityCode\":\"\",\"Lat\":\"-0.79\",\"Lon\":\"113.92\",\"Cases\":190665,\"Status\":\"confirmed\",\"Date\":\"2020-09-05T00:00:00Z\"},{\"Country\":\"Indonesia\",\"CountryCode\":\"ID\",\"Province\":\"\",\"City\":\"\",\"CityCode\":\"\",\"Lat\":\"-0.79\",\"Lon\":\"113.92\",\"Cases\":194109,\"Status\":\"confirmed\",\"Date\":\"2020-09-06T00:00:00Z\"},{\"Country\":\"Indonesia\",\"CountryCode\":\"ID\",\"Province\":\"\",\"City\":\"\",\"CityCode\":\"\",\"Lat\":\"-0.79\",\"Lon\":\"113.92\",\"Cases\":196989,\"Status\":\"confirmed\",\"Date\":\"2020-09-07T00:00:00Z\"},{\"Country\":\"Indonesia\",\"CountryCode\":\"ID\",\"Province\":\"\",\"City\":\"\",\"CityCode\":\"\",\"Lat\":\"-0.79\",\"Lon\":\"113.92\",\"Cases\":200035,\"Status\":\"confirmed\",\"Date\":\"2020-09-08T00:00:00Z\"},{\"Country\":\"Indonesia\",\"CountryCode\":\"ID\",\"Province\":\"\",\"City\":\"\",\"CityCode\":\"\",\"Lat\":\"-0.79\",\"Lon\":\"113.92\",\"Cases\":203342,\"Status\":\"confirmed\",\"Date\":\"2020-09-09T00:00:00Z\"},{\"Country\":\"Indonesia\",\"CountryCode\":\"ID\",\"Province\":\"\",\"City\":\"\",\"CityCode\":\"\",\"Lat\":\"-0.79\",\"Lon\":\"113.92\",\"Cases\":207203,\"Status\":\"confirmed\",\"Date\":\"2020-09-10T00:00:00Z\"},{\"Country\":\"Indonesia\",\"CountryCode\":\"ID\",\"Province\":\"\",\"City\":\"\",\"CityCode\":\"\",\"Lat\":\"-0.79\",\"Lon\":\"113.92\",\"Cases\":210940,\"Status\":\"confirmed\",\"Date\":\"2020-09-11T00:00:00Z\"},{\"Country\":\"Indonesia\",\"CountryCode\":\"ID\",\"Province\":\"\",\"City\":\"\",\"CityCode\":\"\",\"Lat\":\"-0.79\",\"Lon\":\"113.92\",\"Cases\":214746,\"Status\":\"confirmed\",\"Date\":\"2020-09-12T00:00:00Z\"},{\"Country\":\"Indonesia\",\"CountryCode\":\"ID\",\"Province\":\"\",\"City\":\"\",\"CityCode\":\"\",\"Lat\":\"-0.79\",\"Lon\":\"113.92\",\"Cases\":218382,\"Status\":\"confirmed\",\"Date\":\"2020-09-13T00:00:00Z\"},{\"Country\":\"Indonesia\",\"CountryCode\":\"ID\",\"Province\":\"\",\"City\":\"\",\"CityCode\":\"\",\"Lat\":\"-0.79\",\"Lon\":\"113.92\",\"Cases\":221523,\"Status\":\"confirmed\",\"Date\":\"2020-09-14T00:00:00Z\"},{\"Country\":\"Indonesia\",\"CountryCode\":\"ID\",\"Province\":\"\",\"City\":\"\",\"CityCode\":\"\",\"Lat\":\"-0.79\",\"Lon\":\"113.92\",\"Cases\":225030,\"Status\":\"confirmed\",\"Date\":\"2020-09-15T00:00:00Z\"},{\"Country\":\"Indonesia\",\"CountryCode\":\"ID\",\"Province\":\"\",\"City\":\"\",\"CityCode\":\"\",\"Lat\":\"-0.79\",\"Lon\":\"113.92\",\"Cases\":228993,\"Status\":\"confirmed\",\"Date\":\"2020-09-16T00:00:00Z\"},{\"Country\":\"Indonesia\",\"CountryCode\":\"ID\",\"Province\":\"\",\"City\":\"\",\"CityCode\":\"\",\"Lat\":\"-0.79\",\"Lon\":\"113.92\",\"Cases\":232628,\"Status\":\"confirmed\",\"Date\":\"2020-09-17T00:00:00Z\"},{\"Country\":\"Indonesia\",\"CountryCode\":\"ID\",\"Province\":\"\",\"City\":\"\",\"CityCode\":\"\",\"Lat\":\"-0.79\",\"Lon\":\"113.92\",\"Cases\":236519,\"Status\":\"confirmed\",\"Date\":\"2020-09-18T00:00:00Z\"},{\"Country\":\"Indonesia\",\"CountryCode\":\"ID\",\"Province\":\"\",\"City\":\"\",\"CityCode\":\"\",\"Lat\":\"-0.79\",\"Lon\":\"113.92\",\"Cases\":240687,\"Status\":\"confirmed\",\"Date\":\"2020-09-19T00:00:00Z\"},{\"Country\":\"Indonesia\",\"CountryCode\":\"ID\",\"Province\":\"\",\"City\":\"\",\"CityCode\":\"\",\"Lat\":\"-0.79\",\"Lon\":\"113.92\",\"Cases\":244676,\"Status\":\"confirmed\",\"Date\":\"2020-09-20T00:00:00Z\"},{\"Country\":\"Indonesia\",\"CountryCode\":\"ID\",\"Province\":\"\",\"City\":\"\",\"CityCode\":\"\",\"Lat\":\"-0.79\",\"Lon\":\"113.92\",\"Cases\":248852,\"Status\":\"confirmed\",\"Date\":\"2020-09-21T00:00:00Z\"},{\"Country\":\"Indonesia\",\"CountryCode\":\"ID\",\"Province\":\"\",\"City\":\"\",\"CityCode\":\"\",\"Lat\":\"-0.79\",\"Lon\":\"113.92\",\"Cases\":252923,\"Status\":\"confirmed\",\"Date\":\"2020-09-22T00:00:00Z\"},{\"Country\":\"Indonesia\",\"CountryCode\":\"ID\",\"Province\":\"\",\"City\":\"\",\"CityCode\":\"\",\"Lat\":\"-0.79\",\"Lon\":\"113.92\",\"Cases\":257388,\"Status\":\"confirmed\",\"Date\":\"2020-09-23T00:00:00Z\"},{\"Country\":\"Indonesia\",\"CountryCode\":\"ID\",\"Province\":\"\",\"City\":\"\",\"CityCode\":\"\",\"Lat\":\"-0.79\",\"Lon\":\"113.92\",\"Cases\":262022,\"Status\":\"confirmed\",\"Date\":\"2020-09-24T00:00:00Z\"},{\"Country\":\"Indonesia\",\"CountryCode\":\"ID\",\"Province\":\"\",\"City\":\"\",\"CityCode\":\"\",\"Lat\":\"-0.79\",\"Lon\":\"113.92\",\"Cases\":266845,\"Status\":\"confirmed\",\"Date\":\"2020-09-25T00:00:00Z\"},{\"Country\":\"Indonesia\",\"CountryCode\":\"ID\",\"Province\":\"\",\"City\":\"\",\"CityCode\":\"\",\"Lat\":\"-0.79\",\"Lon\":\"113.92\",\"Cases\":271339,\"Status\":\"confirmed\",\"Date\":\"2020-09-26T00:00:00Z\"},{\"Country\":\"Indonesia\",\"CountryCode\":\"ID\",\"Province\":\"\",\"City\":\"\",\"CityCode\":\"\",\"Lat\":\"-0.79\",\"Lon\":\"113.92\",\"Cases\":275213,\"Status\":\"confirmed\",\"Date\":\"2020-09-27T00:00:00Z\"},{\"Country\":\"Indonesia\",\"CountryCode\":\"ID\",\"Province\":\"\",\"City\":\"\",\"CityCode\":\"\",\"Lat\":\"-0.79\",\"Lon\":\"113.92\",\"Cases\":278722,\"Status\":\"confirmed\",\"Date\":\"2020-09-28T00:00:00Z\"},{\"Country\":\"Indonesia\",\"CountryCode\":\"ID\",\"Province\":\"\",\"City\":\"\",\"CityCode\":\"\",\"Lat\":\"-0.79\",\"Lon\":\"113.92\",\"Cases\":282724,\"Status\":\"confirmed\",\"Date\":\"2020-09-29T00:00:00Z\"},{\"Country\":\"Indonesia\",\"CountryCode\":\"ID\",\"Province\":\"\",\"City\":\"\",\"CityCode\":\"\",\"Lat\":\"-0.79\",\"Lon\":\"113.92\",\"Cases\":287008,\"Status\":\"confirmed\",\"Date\":\"2020-09-30T00:00:00Z\"},{\"Country\":\"Indonesia\",\"CountryCode\":\"ID\",\"Province\":\"\",\"City\":\"\",\"CityCode\":\"\",\"Lat\":\"-0.79\",\"Lon\":\"113.92\",\"Cases\":291182,\"Status\":\"confirmed\",\"Date\":\"2020-10-01T00:00:00Z\"}]\n",
      "\n"
     ]
    }
   ],
   "source": [
    "import json\n",
    "\n",
    "read_file(\"src/2.json\")"
   ]
  },
  {
   "cell_type": "markdown",
   "metadata": {
    "id": "ECZ-5Qd3gGFT"
   },
   "source": [
    "2. Buatlah sebuah fungsi untuk membaca file json yang disediakan dan mengambil data\n",
    "\"cases\" covid di indonesia. return menjadi satu buah list"
   ]
  },
  {
   "cell_type": "code",
   "execution_count": 34,
   "metadata": {
    "id": "EIB1yO5Igg3J"
   },
   "outputs": [
    {
     "data": {
      "text/plain": [
       "[57770,\n",
       " 59394,\n",
       " 60695,\n",
       " 62142,\n",
       " 63749,\n",
       " 64958,\n",
       " 66226,\n",
       " 68079,\n",
       " 70736,\n",
       " 72347,\n",
       " 74018,\n",
       " 75699,\n",
       " 76981,\n",
       " 78572,\n",
       " 80094,\n",
       " 81668,\n",
       " 83130,\n",
       " 84882,\n",
       " 86521,\n",
       " 88214,\n",
       " 89869,\n",
       " 91751,\n",
       " 93657,\n",
       " 95418,\n",
       " 97286,\n",
       " 98778,\n",
       " 100303,\n",
       " 102051,\n",
       " 104432,\n",
       " 106336,\n",
       " 108376,\n",
       " 109936,\n",
       " 111455,\n",
       " 113134,\n",
       " 115056,\n",
       " 116871,\n",
       " 118753,\n",
       " 121226,\n",
       " 123503,\n",
       " 125396,\n",
       " 127083,\n",
       " 128776,\n",
       " 130718,\n",
       " 132816,\n",
       " 135123,\n",
       " 137468,\n",
       " 139549,\n",
       " 141370,\n",
       " 143043,\n",
       " 144945,\n",
       " 147211,\n",
       " 149408,\n",
       " 151498,\n",
       " 153535,\n",
       " 155412,\n",
       " 157859,\n",
       " 160165,\n",
       " 162884,\n",
       " 165887,\n",
       " 169195,\n",
       " 172053,\n",
       " 174796,\n",
       " 177571,\n",
       " 180646,\n",
       " 184268,\n",
       " 187537,\n",
       " 190665,\n",
       " 194109,\n",
       " 196989,\n",
       " 200035,\n",
       " 203342,\n",
       " 207203,\n",
       " 210940,\n",
       " 214746,\n",
       " 218382,\n",
       " 221523,\n",
       " 225030,\n",
       " 228993,\n",
       " 232628,\n",
       " 236519,\n",
       " 240687,\n",
       " 244676,\n",
       " 248852,\n",
       " 252923,\n",
       " 257388,\n",
       " 262022,\n",
       " 266845,\n",
       " 271339,\n",
       " 275213,\n",
       " 278722,\n",
       " 282724,\n",
       " 287008,\n",
       " 291182]"
      ]
     },
     "execution_count": 34,
     "metadata": {},
     "output_type": "execute_result"
    }
   ],
   "source": [
    "def read_covid():\n",
    "  file = open(\"src/2.json\")\n",
    "  data = json.load(file)\n",
    "\n",
    "  Cases = []\n",
    "\n",
    "  for i in data:\n",
    "  \n",
    "    if i[\"Cases\"] > 0:\n",
    "      Cases.append(i[\"Cases\"])\n",
    "  \n",
    "  return Cases\n",
    "\n",
    "read_covid()\n"
   ]
  }
 ],
 "metadata": {
  "colab": {
   "authorship_tag": "ABX9TyOE84kcCQJjY+E0BpiWeEzN",
   "name": "tugas_FileErrorMan.ipynb",
   "provenance": []
  },
  "kernelspec": {
   "display_name": "Python 3.9.13 64-bit",
   "language": "python",
   "name": "python3"
  },
  "language_info": {
   "codemirror_mode": {
    "name": "ipython",
    "version": 3
   },
   "file_extension": ".py",
   "mimetype": "text/x-python",
   "name": "python",
   "nbconvert_exporter": "python",
   "pygments_lexer": "ipython3",
   "version": "3.9.13"
  },
  "vscode": {
   "interpreter": {
    "hash": "81794d4967e6c3204c66dcd87b604927b115b27c00565d3d43f05ba2f3a2cb0d"
   }
  }
 },
 "nbformat": 4,
 "nbformat_minor": 1
}
