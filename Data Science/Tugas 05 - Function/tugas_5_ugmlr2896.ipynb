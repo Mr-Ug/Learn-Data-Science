{
 "cells": [
  {
   "cell_type": "markdown",
   "metadata": {
    "id": "jN6OTDumrLvV"
   },
   "source": [
    "1. Buatlah sebuah fungsi di python yang memerlukan dua argument, nama dan usia. Lalu menampilkan dua argument tersebut saat fungsi dipanggil"
   ]
  },
  {
   "cell_type": "code",
   "execution_count": 1,
   "metadata": {
    "id": "1yFYKQhBrLvd"
   },
   "outputs": [
    {
     "name": "stdout",
     "output_type": "stream",
     "text": [
      "Rina 20\n"
     ]
    }
   ],
   "source": [
    "# kerjakan soal no.1 disini\n",
    "\n",
    "class Identitas:\n",
    "    nama = None\n",
    "    usia = None\n",
    "    \n",
    "    def func1 (self):\n",
    "        print(f\"{self.nama} {self.usia}\")\n",
    "        \n",
    "Rina = Identitas()\n",
    "Rina.nama = \"Rina\"\n",
    "Rina.usia = 20\n",
    "        \n",
    "Rina.func1()"
   ]
  },
  {
   "cell_type": "markdown",
   "metadata": {
    "id": "FNW5VR45rLvf"
   },
   "source": [
    "2. Buatlah fungsi yang bisa melakukan print semua parameter/argument yang menjadi inputan. Fungsi tersebut harus bisa menerima berapapun argument yang dimasukkan tanpa error. "
   ]
  },
  {
   "cell_type": "code",
   "execution_count": 3,
   "metadata": {
    "id": "1MbGVT5IrLvf"
   },
   "outputs": [
    {
     "name": "stdout",
     "output_type": "stream",
     "text": [
      "1\n",
      "2\n",
      "3\n",
      "1\n",
      "2\n",
      "3\n",
      "4\n",
      "5\n",
      "6\n"
     ]
    }
   ],
   "source": [
    "# kerjakan soal no.2 disini\n",
    "\n",
    "def func2(*panggil):\n",
    "    for panggils in panggil:\n",
    "        print(panggils)\n",
    "        \n",
    "func2(1,2,3)\n",
    "func2(1,2,3,4,5,6)        "
   ]
  },
  {
   "cell_type": "markdown",
   "metadata": {
    "id": "wFVbYs4TrLvg"
   },
   "source": [
    "3. Buatlah sebuah fungsi yang dapat mencari jumlah total dari anggota pada list. Syarat pengerjaan:\n",
    "     - tanpa menggunakan loop/iterasi\n",
    "     - manfaatkan fungsi lambda\n",
    "\n",
    "list_nilai = [23,17,5,8,25,15]"
   ]
  },
  {
   "cell_type": "code",
   "execution_count": 7,
   "metadata": {
    "id": "lZk2M-v8rLvg"
   },
   "outputs": [
    {
     "name": "stdout",
     "output_type": "stream",
     "text": [
      "93\n"
     ]
    }
   ],
   "source": [
    "# kerjakan soal no.3 disini\n",
    "\n",
    "from functools import reduce\n",
    "\n",
    "\n",
    "list_nilai = [23,17,5,8,25,15]\n",
    "\n",
    "def func3(list_number):\n",
    "    result = reduce(lambda x,y:x+y, list_number)\n",
    "    print(result)\n",
    "\n",
    "func3(list_nilai)"
   ]
  },
  {
   "cell_type": "markdown",
   "metadata": {
    "id": "dYtJlOUfrLvh"
   },
   "source": [
    "4. Buatlah sebuah fungsi yang dapat mencari nilai yang lebih besar/sama dengan 80 dari anggota pada list. Syarat pengerjaan:\n",
    "     - tanpa menggunakan loop/iterasi\n",
    "     - manfaatkan fungsi lambda\n",
    "     - ouput merupakan list\n",
    "\n",
    "nilai_siswa = [67,89,80,67,25,92]"
   ]
  },
  {
   "cell_type": "code",
   "execution_count": 9,
   "metadata": {
    "id": "tHLH5HJvrLvi"
   },
   "outputs": [
    {
     "name": "stdout",
     "output_type": "stream",
     "text": [
      "[89, 80, 92]\n"
     ]
    }
   ],
   "source": [
    "# kerjakan soal no.4 disini\n",
    "\n",
    "nilai_siswa = [67,89,80,67,25,92]\n",
    "\n",
    "def func4(list_nilai):\n",
    "    result = list(filter(lambda x : x >= 80, list_nilai))\n",
    "    print(result)\n",
    "    \n",
    "func4(nilai_siswa)"
   ]
  },
  {
   "cell_type": "markdown",
   "metadata": {
    "id": "A7g_FZu8rLvj"
   },
   "source": [
    "5. Buatlah sebuah fungsi untuk mengecek apakah suatu string palindrom atau bukan\n",
    "\n",
    "kata_1 = \"makam\"\n",
    "kata_2 = \"makan\""
   ]
  },
  {
   "cell_type": "code",
   "execution_count": 16,
   "metadata": {
    "id": "i16Mef9BrLvk"
   },
   "outputs": [
    {
     "name": "stdout",
     "output_type": "stream",
     "text": [
      "makam, merupakan palindrom\n",
      "makan, bukan merupakan palindrom\n"
     ]
    }
   ],
   "source": [
    "# kerjakan soal no.5 disini\n",
    "\n",
    "\n",
    "def test_palindrom(word):\n",
    "    reverse_word = word[::-1]\n",
    "\n",
    "    if word == reverse_word:\n",
    "        print(f'{word}, merupakan palindrom')\n",
    "    else:\n",
    "        print(f'{word}, bukan merupakan palindrom')\n",
    "        \n",
    "Kata1 = 'makam'\n",
    "Kata2 = 'makan'\n",
    "\n",
    "test_palindrom(Kata1)\n",
    "test_palindrom(Kata2)"
   ]
  }
 ],
 "metadata": {
  "colab": {
   "name": "Tugas_4.ipynb",
   "provenance": []
  },
  "kernelspec": {
   "display_name": "Python 3.9.13 64-bit",
   "language": "python",
   "name": "python3"
  },
  "language_info": {
   "codemirror_mode": {
    "name": "ipython",
    "version": 3
   },
   "file_extension": ".py",
   "mimetype": "text/x-python",
   "name": "python",
   "nbconvert_exporter": "python",
   "pygments_lexer": "ipython3",
   "version": "3.9.13"
  },
  "vscode": {
   "interpreter": {
    "hash": "81794d4967e6c3204c66dcd87b604927b115b27c00565d3d43f05ba2f3a2cb0d"
   }
  }
 },
 "nbformat": 4,
 "nbformat_minor": 1
}
