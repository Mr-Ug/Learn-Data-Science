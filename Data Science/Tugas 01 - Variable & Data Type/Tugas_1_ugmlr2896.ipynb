{
 "cells": [
  {
   "cell_type": "markdown",
   "metadata": {},
   "source": [
    "Tugas 1 Variable & Data Type\n",
    "\n",
    "1.  Buatlah **3 variabel** yang masing-masing berisi\n",
    "    Nama depan (string), Umur (integer), dan kota tinggal (string) dan tampilkan semua variabel dengan metode print().\n",
    "    Contoh : **\"Nama saya adalah Thio, berusia 28 tahun dan tinggal di Bandung.\"**"
   ]
  },
  {
   "cell_type": "markdown",
   "metadata": {},
   "source": [
    "<center>\n",
    "<img src=\"Flow Chart Tugas 1 No 1.png\" alt=\"Flow Chart\"/>\n",
    "</center>"
   ]
  },
  {
   "cell_type": "code",
   "execution_count": 1,
   "metadata": {},
   "outputs": [
    {
     "name": "stdout",
     "output_type": "stream",
     "text": [
      "Nama saya adalah Untung, berusia 26 Tahun dan tinggal di Bogor.\n",
      "Nama saya adalah Untung, berusia 26 Tahun dan tinggal di Bogor.\n"
     ]
    }
   ],
   "source": [
    "# Jawab soal 1 disini!\n",
    "\n",
    "NamaDepan = \"Untung\"    #Letakan value bertipe String/str (\"Untung\") di Variable Nama Depan\n",
    "Umur = 26               #Letakan value bertipe Integer/int (26) di Variable Umur\n",
    "KotaTinggal = \"Bogor\"   #Letakan value bertipe String/str (\"Bogor\") di Variable Kota Tinggal\n",
    "\n",
    "# Cara 1\n",
    "print(\"Nama saya adalah \" + NamaDepan + \", \" + \"berusia \" + str(Umur) + \" Tahun dan tinggal di \" + KotaTinggal + \".\")\n",
    "\n",
    "# Cara 2\n",
    "print(f\"Nama saya adalah {NamaDepan}, berusia {Umur} Tahun dan tinggal di {KotaTinggal}.\")"
   ]
  },
  {
   "cell_type": "markdown",
   "metadata": {},
   "source": [
    "2. Buatlah kalimat **\"Budi menyukai buah mangga\"** dan masukan ke dalam variabel **\"kalimat\"**, lalu ubah kata **\"mangga\"** pada kalimat tersebut menjadi **\"apel\"** dan masukkan pada variabel **\"\"kalimat_2\"\"**. dengan menggunakan salah satu **string method**!  "
   ]
  },
  {
   "cell_type": "markdown",
   "metadata": {},
   "source": [
    "<center>\n",
    "<img src=\"Flow Chart Tugas 1 No 2.png\" alt=\"Flow Chart\"/>\n",
    "</center>"
   ]
  },
  {
   "cell_type": "code",
   "execution_count": 3,
   "metadata": {},
   "outputs": [
    {
     "name": "stdout",
     "output_type": "stream",
     "text": [
      "Budi menyukai buah apel\n",
      "Budi menyukai buah apel\n"
     ]
    }
   ],
   "source": [
    "# Jawab soal 2 disini!\n",
    "\n",
    "kalimat = \"Budi menyukai buah mangga\"\n",
    "\n",
    "# .replace(\"kata awal\", \"Kata baru\")\n",
    "\n",
    "kalimat_2 = kalimat.replace(\"mangga\", \"apel\")\n",
    "\n",
    "# Cara 1\n",
    "print(kalimat_2)\n",
    "\n",
    "# Cara 2\n",
    "print(f\"{kalimat_2}\")"
   ]
  }
 ],
 "metadata": {
  "kernelspec": {
   "display_name": "Python 3 (ipykernel)",
   "language": "python",
   "name": "python3"
  },
  "language_info": {
   "codemirror_mode": {
    "name": "ipython",
    "version": 3
   },
   "file_extension": ".py",
   "mimetype": "text/x-python",
   "name": "python",
   "nbconvert_exporter": "python",
   "pygments_lexer": "ipython3",
   "version": "3.9.13"
  },
  "vscode": {
   "interpreter": {
    "hash": "81794d4967e6c3204c66dcd87b604927b115b27c00565d3d43f05ba2f3a2cb0d"
   }
  }
 },
 "nbformat": 4,
 "nbformat_minor": 2
}
