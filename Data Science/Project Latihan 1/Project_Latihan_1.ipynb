{
 "cells": [
  {
   "cell_type": "markdown",
   "metadata": {},
   "source": [
    "# Analisis Data Online Retail"
   ]
  },
  {
   "cell_type": "markdown",
   "metadata": {},
   "source": [
    "## 1. Data Preparation"
   ]
  },
  {
   "cell_type": "code",
   "execution_count": null,
   "metadata": {},
   "outputs": [],
   "source": [
    "# 1.1 Import Library\n",
    "\n",
    "import pandas as pd\n",
    "import matplotlib.pyplot as plt\n"
   ]
  },
  {
   "cell_type": "code",
   "execution_count": null,
   "metadata": {},
   "outputs": [],
   "source": [
    "# 1.2 Load Data file\n",
    "\n",
    "Df = pd.read_excel('Online Retail.xlsx', sheet_name='Online Retail')\n",
    "Df.head()"
   ]
  },
  {
   "cell_type": "code",
   "execution_count": null,
   "metadata": {},
   "outputs": [],
   "source": [
    "Df.dtypes"
   ]
  },
  {
   "cell_type": "code",
   "execution_count": null,
   "metadata": {},
   "outputs": [],
   "source": [
    "Df['InvoiceDate'] = Df['InvoiceDate'].apply(pd.Timestamp)"
   ]
  },
  {
   "cell_type": "markdown",
   "metadata": {},
   "source": [
    "## 2. Data Cleaning"
   ]
  },
  {
   "cell_type": "code",
   "execution_count": null,
   "metadata": {},
   "outputs": [],
   "source": [
    "# 2.1 Dimensionality of the DataFrame\n",
    "\n",
    "Df.shape\n"
   ]
  },
  {
   "cell_type": "code",
   "execution_count": null,
   "metadata": {},
   "outputs": [],
   "source": [
    "# 2.2 Missing Values\n",
    "\n",
    "Df.isnull().sum()\n"
   ]
  },
  {
   "cell_type": "code",
   "execution_count": null,
   "metadata": {},
   "outputs": [],
   "source": [
    "# 2.2.1 Cleaning missing value\n",
    "\n",
    "Df_Clean = Df.dropna(axis=0, subset=['Description','CustomerID'])\n"
   ]
  },
  {
   "cell_type": "code",
   "execution_count": null,
   "metadata": {},
   "outputs": [],
   "source": [
    "# 2.3 Missing Values\n",
    "\n",
    "Df_Clean.isnull().sum()\n"
   ]
  },
  {
   "cell_type": "code",
   "execution_count": null,
   "metadata": {},
   "outputs": [],
   "source": [
    "# 2.3.1 Dimensionality of the DataFrame\n",
    "\n",
    "Df_Clean.shape\n"
   ]
  },
  {
   "cell_type": "markdown",
   "metadata": {},
   "source": [
    "Dari data transaksi online retail. didapat memiliki 541910 baris dan 8 kolom. sebelum melakukan perbersihan data, ditemukan data kosong di kolom Description sebanyak 1454 dan kolom CustomerID sebanyak 135080 dan setelah dilakukan pembersihan baris terjadi pengurangan jumlah baris menjadi 406830 baris dan 8 kolom."
   ]
  },
  {
   "cell_type": "markdown",
   "metadata": {},
   "source": [
    "## 3. Analisis descriptive"
   ]
  },
  {
   "cell_type": "code",
   "execution_count": null,
   "metadata": {},
   "outputs": [],
   "source": [
    "# 3.1 summary descriptive statistics\n",
    "\n",
    "Desc = Df_Clean.describe().transpose()\n",
    "Desc['Type'] = Df_Clean.dtypes\n",
    "Desc\n"
   ]
  },
  {
   "cell_type": "markdown",
   "metadata": {},
   "source": [
    "Dari kesimpulan diatas terdapat nilai minus untuk jumlah transaksi dan jumlah transaksi tertinggi sebesar 80995 "
   ]
  },
  {
   "cell_type": "code",
   "execution_count": null,
   "metadata": {},
   "outputs": [],
   "source": [
    "# 3.1.1 Descriptive Statistics Colums InvoiceDate\n",
    "\n",
    "Desc_InvoiceDate = pd.DataFrame(Df_Clean['InvoiceDate'].describe())\n",
    "Desc_InvoiceDate"
   ]
  },
  {
   "cell_type": "markdown",
   "metadata": {},
   "source": [
    "Diketahui dari Data transaksi online retail yang dimulai dari tanggal 1 Desember 2010 sampai 9 Desember 2011 dengan jumlah transaksi sebanyak 406830. terdapat jumlah transaksi tertinggi dalam satu hari pada tanggal 14 November 2011 sebanyak 543 transaksi."
   ]
  },
  {
   "cell_type": "code",
   "execution_count": null,
   "metadata": {},
   "outputs": [],
   "source": [
    "# 3.1.2 Descriptive Statistics Colums Description\n",
    "\n",
    "Desc_Description = pd.DataFrame(Df_Clean['Description'].describe())\n",
    "Desc_Description\n"
   ]
  },
  {
   "cell_type": "markdown",
   "metadata": {},
   "source": [
    "Diketahui dari data description terdapat 3897 item produk dan didapat bahwa item yang paling banyak dipesan adalah :\n",
    "- item WHITE HANGING HEART T-LIGHT HOLDER sebanyak 2070"
   ]
  },
  {
   "cell_type": "code",
   "execution_count": null,
   "metadata": {},
   "outputs": [],
   "source": [
    "# 3.1.3 Descriptive Statistics Colums Country\n",
    "\n",
    "pd.DataFrame(Df_Clean['Country'].describe())\n"
   ]
  },
  {
   "cell_type": "markdown",
   "metadata": {},
   "source": [
    "Diketahui dari kolom negara terdapat 38 Negara dan didapat bahwa negara yang paling banyak melakukan transaksi adalah :\n",
    "- Unitted Kingdom sebanyak 361878 transaksi"
   ]
  },
  {
   "cell_type": "markdown",
   "metadata": {},
   "source": [
    "## 4. Qunatity Distribution"
   ]
  },
  {
   "cell_type": "code",
   "execution_count": null,
   "metadata": {},
   "outputs": [],
   "source": [
    "# 4.1 Box Plot Quantity Distribution\n",
    "\n",
    "Ax = Df_Clean['Quantity'].plot.box(\n",
    "    showfliers=False,\n",
    "    grid=True,\n",
    "    figsize=(5, 4)\n",
    ")\n",
    "\n",
    "Ax.set_ylabel('Order Quantity')\n",
    "Ax.set_title('Quantity Distribution')\n",
    "\n",
    "plt.suptitle(\"\")\n",
    "plt.show()\n"
   ]
  },
  {
   "cell_type": "markdown",
   "metadata": {},
   "source": [
    "Dari grafik diatas dapat disimpulkan bahwa banyaknya transaksi berulang (repeat order) di angka 1 - 12 dan terdapat nilai minus lebih dari 10."
   ]
  },
  {
   "cell_type": "code",
   "execution_count": null,
   "metadata": {},
   "outputs": [],
   "source": [
    "# 4.1.1 Successful transaction\n",
    "\n",
    "Transaksi_Berhasil = (Df_Clean.loc[Df['Quantity'] > 0].shape)\n",
    "display(Transaksi_Berhasil)\n"
   ]
  },
  {
   "cell_type": "code",
   "execution_count": null,
   "metadata": {},
   "outputs": [],
   "source": [
    "# 4.1.2 Failed transaction\n",
    "\n",
    "Transaksi_Gagal = (Df_Clean.loc[Df['Quantity'] < 0].shape)\n",
    "display(Transaksi_Gagal)"
   ]
  },
  {
   "cell_type": "markdown",
   "metadata": {},
   "source": [
    "- Dari jangka waktu selama 375 Hari (2010-12-01 s/d 2011-12-09)\n",
    "- Untuk transaksi yang berhasil sebanyak 397924.\n",
    "- Untuk transaksi yang gagal sebanyak 8905."
   ]
  },
  {
   "cell_type": "markdown",
   "metadata": {},
   "source": [
    "## 5. Times Series Number Of Orders"
   ]
  },
  {
   "cell_type": "code",
   "execution_count": null,
   "metadata": {},
   "outputs": [],
   "source": [
    "Transaksi_perbulan = Df_Clean.set_index('InvoiceDate')['InvoiceNo'].resample('M').nunique()\n",
    "print(Transaksi_perbulan)"
   ]
  },
  {
   "cell_type": "code",
   "execution_count": null,
   "metadata": {},
   "outputs": [],
   "source": [
    "InvoiceDate12 = Df_Clean.loc[Df_Clean['InvoiceDate'] >= '2011-12-01','InvoiceDate']\n",
    "InvoiceDate12.tail(1)"
   ]
  },
  {
   "cell_type": "code",
   "execution_count": null,
   "metadata": {},
   "outputs": [],
   "source": [
    "Ax = pd.DataFrame(Pesanan_Bulanan.values).plot(\n",
    "    grid=True,\n",
    "    figsize=(10,3),\n",
    "    legend=False\n",
    ")\n",
    "\n",
    "Ax.set_xlabel('Date')\n",
    "Ax.set_ylabel('Number Of Orders')\n",
    "Ax.set_title('Total Number Of Orders Over Time')\n",
    "\n",
    "Ax.set_ylim([0, max(Pesanan_Bulanan.values)+500])\n",
    "\n",
    "plt.xticks(\n",
    "    range(len(Pesanan_Bulanan.index)), \n",
    "    [x.strftime('%m.%Y') for x in Pesanan_Bulanan.index], \n",
    "    rotation=45\n",
    ")\n",
    "\n",
    "plt.show()"
   ]
  },
  {
   "cell_type": "markdown",
   "metadata": {},
   "source": [
    "Dari grafik times series diatas menunjukkan adanya penurunan jumlah order pada bulan Desember dikarenakan pada bulan tersebut hanya 9 hari melakukan order."
   ]
  },
  {
   "cell_type": "markdown",
   "metadata": {},
   "source": [
    "# Times Series Revenue"
   ]
  },
  {
   "cell_type": "code",
   "execution_count": null,
   "metadata": {},
   "outputs": [],
   "source": [
    "Df_Clean['Sales'] = Df_Clean['Quantity'] * Df_Clean['UnitPrice']\n",
    "Df_Clean.head()"
   ]
  },
  {
   "cell_type": "code",
   "execution_count": null,
   "metadata": {},
   "outputs": [],
   "source": [
    "Pendapatan_Bulanan = Df_Clean.set_index('InvoiceDate')['Sales'].resample('M').sum()\n",
    "Pendapatan_Bulanan"
   ]
  },
  {
   "cell_type": "code",
   "execution_count": null,
   "metadata": {},
   "outputs": [],
   "source": [
    "Ax = pd.DataFrame(Pendapatan_Bulanan.values).plot(\n",
    "    grid=True,\n",
    "    figsize=(10,3),\n",
    "    legend=False\n",
    ")\n",
    "\n",
    "Ax.set_xlabel('Date')\n",
    "Ax.set_ylabel('Sales')\n",
    "Ax.set_title('Total Revenue Over Time')\n",
    "\n",
    "Ax.set_ylim([0, max(Pendapatan_Bulanan.values)+100000])\n",
    "\n",
    "plt.xticks(\n",
    "    range(len(Pendapatan_Bulanan.index)), \n",
    "    [x.strftime('%m.%Y') for x in Pendapatan_Bulanan.index], \n",
    "    rotation=45\n",
    ")\n",
    "\n",
    "plt.show()"
   ]
  },
  {
   "cell_type": "markdown",
   "metadata": {},
   "source": []
  }
 ],
 "metadata": {
  "kernelspec": {
   "display_name": "Python 3.9.13 64-bit",
   "language": "python",
   "name": "python3"
  },
  "language_info": {
   "codemirror_mode": {
    "name": "ipython",
    "version": 3
   },
   "file_extension": ".py",
   "mimetype": "text/x-python",
   "name": "python",
   "nbconvert_exporter": "python",
   "pygments_lexer": "ipython3",
   "version": "3.9.13"
  },
  "orig_nbformat": 4,
  "vscode": {
   "interpreter": {
    "hash": "81794d4967e6c3204c66dcd87b604927b115b27c00565d3d43f05ba2f3a2cb0d"
   }
  }
 },
 "nbformat": 4,
 "nbformat_minor": 2
}
