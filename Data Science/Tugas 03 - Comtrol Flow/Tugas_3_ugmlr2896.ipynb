{
 "cells": [
  {
   "cell_type": "markdown",
   "metadata": {},
   "source": [
    "# CONTROL FLOW\n"
   ]
  },
  {
   "cell_type": "markdown",
   "metadata": {},
   "source": [
    "1.  Data_list = ['Bandung', 'Jakarta', 'Semarang', 'Palembang']\n",
    "    \n",
    "    Lakukan perintah print pada semua anggota list tersebut secara vertikal!\n",
    "\n",
    "    Output : \n",
    "    \n",
    "    Bandung\n",
    "\n",
    "    Jakarta\n",
    "    \n",
    "    Semarang\n",
    "    \n",
    "    Palembang"
   ]
  },
  {
   "cell_type": "code",
   "execution_count": 54,
   "metadata": {},
   "outputs": [
    {
     "name": "stdout",
     "output_type": "stream",
     "text": [
      "Bandung\n",
      "Jakarta\n",
      "Semarang\n",
      "Palembang\n"
     ]
    }
   ],
   "source": [
    "# Jawab soal 1 disini!\n",
    "Data_list = ['Bandung', 'Jakarta', 'Semarang', 'Palembang']\n",
    "\n",
    "for anggota in Data_list:  # Lakukan pengulangan untuk anggota di dalam data_list,\n",
    "    print(anggota)         # lalu tampilan anggota tersebut!\n"
   ]
  },
  {
   "cell_type": "markdown",
   "metadata": {},
   "source": [
    "2.  Data_list_2 = [100, 'makassar', 15.5, True, \"20\"]\n",
    "\n",
    "    Lakukan perintah print pada anggota list untuk tipe numerik (int & float) saja!"
   ]
  },
  {
   "cell_type": "code",
   "execution_count": 52,
   "metadata": {},
   "outputs": [
    {
     "name": "stdout",
     "output_type": "stream",
     "text": [
      "menggunakan for loop : 100\n",
      "menggunakan for loop : 15.5\n",
      "menggunakan index : [100, 15.5]\n"
     ]
    }
   ],
   "source": [
    "# Jawab soal 2 disini!\n",
    "\n",
    "data_list_2 = [100, 'makassar', 15.5, True, \"20\"]\n",
    "\n",
    "# Cara 1\n",
    "for anggota in data_list_2:                                 # Lakukan pengulangan untuk anggota di dalam data_list_2,\n",
    "    if type(anggota) == int or type(anggota) == float:      # Jika tipe anggota list atau tipe anggota float,\n",
    "        print(f'menggunakan for loop : {anggota}')          # lalu tampilkan anggota tersebut.\n",
    "\n",
    "# Cara 2\n",
    "print(f'menggunakan index : {data_list_2[0:3:2]}')          # tampilkan data_list_2 untuk anggota index ke 0 sampai ke 3 dengan lompatan 2 kali\n"
   ]
  },
  {
   "cell_type": "markdown",
   "metadata": {},
   "source": [
    "3. Buatlah sebuah program if else yang dapat menyatakan apakah suatu bilangan ganjil atau genap!"
   ]
  },
  {
   "cell_type": "code",
   "execution_count": 61,
   "metadata": {},
   "outputs": [
    {
     "name": "stdout",
     "output_type": "stream",
     "text": [
      "Ganjil\n"
     ]
    }
   ],
   "source": [
    "# kerjakan soal no.3 disini\n",
    "\n",
    "number = 9\n",
    "\n",
    "if (number % 2 == 0):   # Jika 9 habis dibagi/modulus 2 sama dengan 0,\n",
    "    print(\"Genap\")      # maka tampilkan Genap,\n",
    "else:                   # Jika tidak,\n",
    "    print(\"Ganjil\")     # maka tampilkan Ganjil."
   ]
  },
  {
   "cell_type": "markdown",
   "metadata": {},
   "source": [
    "4.  list_1 = [1,2,3,4,5]\n",
    "\n",
    "    list_2 = [2,3,6,8,9]\n",
    "\n",
    "    Dari data list tersebut lakukan perkalian semua anggota list_1 terhadap anggota ganjil pada list_2. tampilkan hasilnya secara vertikal!\n",
    "\n",
    "    Hasil : 3, 9, 6, 18, 9, 27, 12, 36, 15, 45 "
   ]
  },
  {
   "cell_type": "code",
   "execution_count": 12,
   "metadata": {
    "scrolled": true
   },
   "outputs": [
    {
     "name": "stdout",
     "output_type": "stream",
     "text": [
      "3\n",
      "9\n",
      "6\n",
      "18\n",
      "9\n",
      "27\n",
      "12\n",
      "36\n",
      "15\n",
      "45\n"
     ]
    }
   ],
   "source": [
    "# kerjakan soal no.4 disini\n",
    "\n",
    "list_1 = [1,2,3,4,5]\n",
    "list_2 = [2,3,6,8,9]\n",
    "\n",
    "for Anggota_list_1 in list_1:                       # Lakukan pengulangan untuk Anggota di dalam list 1 dan\n",
    "    for Anggota_List_2 in list_2:                   # Lakukan pengulangan untuk Anggota di dalam List 2,\n",
    "        if Anggota_List_2 % 2 != 0:                 # Jika setiap Anggota di list 2 habis dibagi/modulus 2 tidak sama dengan 0,\n",
    "            print(Anggota_list_1 * Anggota_List_2)  # Maka tampilkan hasil dari setiap anggota list 1 dikalikan dengan anggota ganjil list 2."
   ]
  },
  {
   "cell_type": "markdown",
   "metadata": {},
   "source": [
    "5.  data_list_3 = ['asda8asd', 'bandunglautanapi', 'washingt0nDC']\n",
    "\n",
    "    Dari data list tersebut llakukan pengecekan apakah terdapat angka pada setiap2 anggota list, lalu tampilkan.\n",
    "\n",
    "    Output :\n",
    "\n",
    "    asda8asd memiki karakter angka di dalamnya\n",
    "\n",
    "    bandunglautanapi tidak memiki karakter angka di dalamnya\n",
    "\n",
    "    washingt0nDC memiki karakter angka di dalamnya"
   ]
  },
  {
   "cell_type": "code",
   "execution_count": 12,
   "metadata": {},
   "outputs": [
    {
     "name": "stdout",
     "output_type": "stream",
     "text": [
      "asda8asd : memiliki karakter angka di dalamnya\n",
      "bandunglautanapi : memiliki karakter angka di dalamnya\n",
      "washingt0nDC : memiliki karakter angka di dalamnya\n"
     ]
    }
   ],
   "source": [
    "# kerjakan soal no.4 disini\n",
    "\n",
    "data_list_3 = ['asda8asd', 'bandunglautanapi', 'washingt0nDC']\n",
    "\n",
    "for anggota in data_list_3:         # untuk anggota di dalam list data list 3 dan\n",
    "    for alphabet in anggota:        # untuk alphabet di dalam anggota,\n",
    "        if alphabet.isnumeric():    # jika alphabet mengandung angka.\n",
    "            status = True           # maka berikan status True, Jika alphabet tidak mengandung angka,\n",
    "            status = False          # maka berikan status False.\n",
    "            break                   # Jangan lakukan pengulangan.\n",
    "\n",
    "    if status:                      # jika status bernilai True, maka tampilkan,\n",
    "        print(f'{anggota} : tidak memiliki karakter angka di dalamnya')\n",
    "    else:                           # jika status bernilai False, maka tampilkan.\n",
    "        print(f'{anggota} : memiliki karakter angka di dalamnya')"
   ]
  },
  {
   "cell_type": "markdown",
   "metadata": {},
   "source": [
    "6.  Dari data list dibawah cari siswa mana saja yang memiliki nilai lebih dari sama dengan 80 dan Masukkan kedalam sebuah list. lalu tampilkan hasilnya.\n",
    "\n",
    "    Output : ['Budi', 'Rudi', 'Leo']"
   ]
  },
  {
   "cell_type": "code",
   "execution_count": 24,
   "metadata": {},
   "outputs": [
    {
     "name": "stdout",
     "output_type": "stream",
     "text": [
      "['Budi', 'Rudi', 'Leo']\n"
     ]
    }
   ],
   "source": [
    "# kerjakan soal no.4 disini\n",
    "\n",
    "data_siswa = [\n",
    "    {\n",
    "        \"nama\":\"Budi\",\n",
    "        \"nilai\": 90\n",
    "    },\n",
    "    {\n",
    "        \"nama\":\"Nina\",\n",
    "        \"nilai\": 78\n",
    "    },\n",
    "    {\n",
    "        \"nama\":\"Rudi\",\n",
    "        \"nilai\": 91\n",
    "    },\n",
    "    {\n",
    "        \"nama\":\"Olivia\",\n",
    "        \"nilai\": 76\n",
    "    },\n",
    "    {\n",
    "        \"nama\":\"Leo\",\n",
    "        \"nilai\": 80\n",
    "    },\n",
    "    {\n",
    "        \"nama\":\"Liam\",\n",
    "        \"nilai\": 67\n",
    "    },\n",
    "    {\n",
    "        \"nama\":\"Sheila\",\n",
    "        \"nilai\": 76\n",
    "    }\n",
    "]\n",
    "\n",
    "Siswa_Lulus = []\n",
    "\n",
    "for siswa in data_siswa:                    # lakukan pengulangan untuk siswa di dalam data_siswa,\n",
    "    if siswa['nilai'] >= 80:                # jika siswa dengan nilai lebih dari 80,\n",
    "        Siswa_Lulus.append(siswa['nama'])   # maka nama siswa tersebut masukan ke dalam list siswa lulus.\n",
    "print(Siswa_Lulus)                          # lalu tampilan siswa yang lulus tersebut."
   ]
  }
 ],
 "metadata": {
  "kernelspec": {
   "display_name": "Python 3.9.13 64-bit",
   "language": "python",
   "name": "python3"
  },
  "language_info": {
   "codemirror_mode": {
    "name": "ipython",
    "version": 3
   },
   "file_extension": ".py",
   "mimetype": "text/x-python",
   "name": "python",
   "nbconvert_exporter": "python",
   "pygments_lexer": "ipython3",
   "version": "3.9.13"
  },
  "vscode": {
   "interpreter": {
    "hash": "81794d4967e6c3204c66dcd87b604927b115b27c00565d3d43f05ba2f3a2cb0d"
   }
  }
 },
 "nbformat": 4,
 "nbformat_minor": 2
}
