{
  "cells": [
    {
      "cell_type": "code",
      "execution_count": 1,
      "metadata": {
        "id": "OrbpS2WCvLa4"
      },
      "outputs": [],
      "source": [
        "# 1. Business Understanding / Question\n",
        "# Bagaimana perkembangan kasus baru pada tanggal 15 November 2021 - 14 Desember 2021"
      ]
    },
    {
      "cell_type": "code",
      "execution_count": 2,
      "metadata": {
        "id": "gGlho69qv7jQ"
      },
      "outputs": [],
      "source": [
        "# import semua package / library\n"
      ]
    },
    {
      "cell_type": "code",
      "execution_count": 3,
      "metadata": {
        "id": "d8lWvwSSwDRG"
      },
      "outputs": [],
      "source": [
        "# 2. Data Collection\n",
        "# panggil dalam bentuk dataframe\n"
      ]
    },
    {
      "cell_type": "code",
      "execution_count": 4,
      "metadata": {
        "id": "iA0kS8UNwi6r"
      },
      "outputs": [],
      "source": [
        "# 3. Data Preparation\n",
        "# siapkan data-data yang kita butuhkan, kita menggunakan dua kolom yaitu kasus dan tanggal\n"
      ]
    },
    {
      "cell_type": "code",
      "execution_count": 5,
      "metadata": {
        "id": "LcIHvo5rxicG"
      },
      "outputs": [],
      "source": [
        "# lakukan transformasi dan menambahkan kolum baru pada dataframe\n",
        "# beri nama kolum baru dengan cases_norm\n",
        "# pada bagian ini kita menggunakan motode logaritmik, dipersilahkan jika menggunakan metode lain.\n"
      ]
    },
    {
      "cell_type": "code",
      "execution_count": 6,
      "metadata": {
        "id": "YVWW2SntxJvR"
      },
      "outputs": [],
      "source": [
        "# kita harus mengganti kolum tanggal menjadi  numerik dengan basis tanggal 1 Juli 2021 sebagai dasar\n",
        "# misalnya tanggal 1 Juli 2021 sebagai 0\n",
        "# misalnya tanggal 2 Juli 2021 sebagai 1\n",
        "# dst\n",
        "\n",
        "# ambil tanggal 1 Juli 2021 sebagai dasar dengan menggunakan to_datetime dan indexing\n"
      ]
    },
    {
      "cell_type": "code",
      "execution_count": 7,
      "metadata": {
        "id": "q81iIGw_zLt7"
      },
      "outputs": [],
      "source": [
        "# kita akan mengubah semua tanggal menjadi numerik dengan basis tanggal 1 Juli 2021\n",
        "# hint ==> ...['days'] = ...apply(lambda x: pd.Timedelta(pd.to_datetime(x) - ...).days)\n",
        "\n"
      ]
    },
    {
      "cell_type": "code",
      "execution_count": 8,
      "metadata": {
        "id": "ap-bQhAB0cpn"
      },
      "outputs": [],
      "source": [
        "# buat dataframe baru dengan menggunakan copy yang berisi kolom cases_norm dan days\n",
        "\n"
      ]
    },
    {
      "cell_type": "code",
      "execution_count": 9,
      "metadata": {
        "id": "EeD2Bpkf1ELi"
      },
      "outputs": [],
      "source": [
        "# 4. Data Processing\n",
        "# definisikan dua variabel x dan y dan ubah menjadi data array\n",
        "# x ==> days, y ==> cases_norm\n",
        "\n",
        "\n"
      ]
    },
    {
      "cell_type": "code",
      "execution_count": 10,
      "metadata": {
        "id": "2ZZ4h_dh2EsC"
      },
      "outputs": [],
      "source": [
        "# bagi menjadi data train dan data test dengan menggunakan train_test_split\n",
        "\n"
      ]
    },
    {
      "cell_type": "code",
      "execution_count": 11,
      "metadata": {
        "id": "xZNB9cSR2OwH"
      },
      "outputs": [],
      "source": [
        "# import modul PolynomialFeatures \n",
        "# buat lah variabel poly_reg dengan memanggil model PolynomialFeatures\n",
        "\n",
        "\n",
        "\n",
        "# gunakan poly_reg.fit_transform untuk mengubah data kita menjadi bentuk polynomialnya\n",
        "# buat variabel x_poly untuk menggantikan data X_train\n",
        "\n",
        "\n",
        "\n",
        "\n",
        "# buatlah model Linear Regression\n",
        "# data X_poly pasangkan dengan y_train\n",
        "\n"
      ]
    },
    {
      "cell_type": "code",
      "execution_count": 12,
      "metadata": {
        "id": "y7sGfCql2wvZ"
      },
      "outputs": [],
      "source": [
        "# gunakan poly_reg.fit_transform untuk mengubah data kita menjadi bentuk polynomialnya\n",
        "# buat variabel poly_X_test untuk menggantikan data X_test\n",
        "\n",
        "\n",
        "\n",
        "# r2 Score\n",
        "\n"
      ]
    },
    {
      "cell_type": "code",
      "execution_count": 13,
      "metadata": {
        "id": "LKthxjhE7mOo"
      },
      "outputs": [],
      "source": [
        "# prediksi tanggal 15 November 2021 - 14 Desember 2021 (30 hari) dari days 137 - 166\n"
      ]
    },
    {
      "cell_type": "code",
      "execution_count": 14,
      "metadata": {
        "id": "dNKeL9As21si"
      },
      "outputs": [],
      "source": [
        "# 5. Data Analisis\n",
        "# tampilkan plot dengan predict_date = x dan predict case = y\n",
        "\n"
      ]
    },
    {
      "cell_type": "code",
      "execution_count": 14,
      "metadata": {
        "id": "tteseXo_RIlO"
      },
      "outputs": [],
      "source": []
    }
  ],
  "metadata": {
    "colab": {
      "collapsed_sections": [],
      "provenance": []
    },
    "kernelspec": {
      "display_name": "Python 3.9.13 64-bit",
      "language": "python",
      "name": "python3"
    },
    "language_info": {
      "name": "python",
      "version": "3.9.13"
    },
    "vscode": {
      "interpreter": {
        "hash": "81794d4967e6c3204c66dcd87b604927b115b27c00565d3d43f05ba2f3a2cb0d"
      }
    }
  },
  "nbformat": 4,
  "nbformat_minor": 0
}
