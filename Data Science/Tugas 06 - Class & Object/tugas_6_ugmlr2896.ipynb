{
 "cells": [
  {
   "cell_type": "markdown",
   "metadata": {
    "id": "X_-RZ45njo1n"
   },
   "source": [
    "1. Buatlah sebuah class dengan nama class = Kendaraan,  tanpa variabel, attribute dan methods"
   ]
  },
  {
   "cell_type": "code",
   "execution_count": 4,
   "metadata": {
    "id": "2_SV-dIsjo1u"
   },
   "outputs": [],
   "source": [
    "# kerjakan soal no.1 disini\n",
    "class kendaraan:\n",
    "    pass"
   ]
  },
  {
   "cell_type": "markdown",
   "metadata": {
    "id": "Sb_aVB-Ujo1v"
   },
   "source": [
    "2. Buatlah sebuah class dengan nama class = Kendaraan, yang memiliki atribut instance kecepatan_maksimum dan jarak_tempuh"
   ]
  },
  {
   "cell_type": "code",
   "execution_count": 3,
   "metadata": {
    "id": "2kEaZBsPjo1w"
   },
   "outputs": [
    {
     "name": "stdout",
     "output_type": "stream",
     "text": [
      "240 10\n"
     ]
    }
   ],
   "source": [
    "# kerjakan soal no.2 disini\n",
    "\n",
    "class kendaraan:\n",
    "    \n",
    "    def __init__(self, kecepatan_maksimum, jarak_tempuh):\n",
    "        self.kecepatan_maksimum = kecepatan_maksimum\n",
    "        self.jarak_tempuh = jarak_tempuh\n",
    "        \n",
    "model_1 = kendaraan(240,10)\n",
    "print(model_1.kecepatan_maksimum, model_1.jarak_tempuh)\n",
    "\n"
   ]
  },
  {
   "cell_type": "markdown",
   "metadata": {
    "id": "mQcUuE-Mjo1x"
   },
   "source": [
    "3. Buatlah sebuah class dengan nama Tesla yang bersifat inheritance/turunan dari class mobil"
   ]
  },
  {
   "cell_type": "code",
   "execution_count": 8,
   "metadata": {
    "id": "np3XdRV6jo1x",
    "outputId": "f03b11e9-e570-448c-cb3d-cd2ae3415fb4"
   },
   "outputs": [
    {
     "name": "stdout",
     "output_type": "stream",
     "text": [
      "Nama Mobil: model x, Warna: perak, Bahan Bakar: listrik\n"
     ]
    }
   ],
   "source": [
    "# kerjakan soal no.3 disini\n",
    "\n",
    "class Mobil:\n",
    "\n",
    "    def __init__(self, nama, warna, bahan_bakar):\n",
    "        self.nama = nama\n",
    "        self.warna = warna\n",
    "        self.bahan_bakar = bahan_bakar\n",
    "        \n",
    "class Tesla(Mobil):\n",
    "    pass\n",
    "\n",
    "model_x = Tesla(\"model x\",\"perak\",\"listrik\")\n",
    "print(f\"Nama Mobil: {model_x.nama}, Warna: {model_x.warna}, Bahan Bakar: {model_x.bahan_bakar}\")\n",
    "\n"
   ]
  },
  {
   "cell_type": "markdown",
   "metadata": {
    "id": "Dks9wPRZjo1z"
   },
   "source": [
    "4. Buatlah sebuah class dengan ketentuan:\n",
    "    - memiliki nama Aritmatika\n",
    "    - instance atribut/input untuk class adalah dua integer\n",
    "    - memiliki metode yang bernama add yang menampilkan hasil penjumlahan instance atribut/inputan class"
   ]
  },
  {
   "cell_type": "code",
   "execution_count": 17,
   "metadata": {
    "id": "nyZrczeojo1z"
   },
   "outputs": [
    {
     "name": "stdout",
     "output_type": "stream",
     "text": [
      "14\n"
     ]
    }
   ],
   "source": [
    "# kerjakan soal no.4 disini\n",
    "\n",
    "class Aritmatika:\n",
    "    def __init__(self, number1, number2):\n",
    "        self.number1 = number1\n",
    "        self.number2 = number2\n",
    "    \n",
    "    def add(self):\n",
    "        print(self.number1 + self.number2)\n",
    "\n",
    "model_hitung = Aritmatika(10,4)\n",
    "model_hitung.add()\n"
   ]
  }
 ],
 "metadata": {
  "colab": {
   "name": "tugas_pks_ds_6.ipynb",
   "provenance": []
  },
  "kernelspec": {
   "display_name": "Python 3.9.13 64-bit",
   "language": "python",
   "name": "python3"
  },
  "language_info": {
   "codemirror_mode": {
    "name": "ipython",
    "version": 3
   },
   "file_extension": ".py",
   "mimetype": "text/x-python",
   "name": "python",
   "nbconvert_exporter": "python",
   "pygments_lexer": "ipython3",
   "version": "3.9.13"
  },
  "vscode": {
   "interpreter": {
    "hash": "81794d4967e6c3204c66dcd87b604927b115b27c00565d3d43f05ba2f3a2cb0d"
   }
  }
 },
 "nbformat": 4,
 "nbformat_minor": 1
}
