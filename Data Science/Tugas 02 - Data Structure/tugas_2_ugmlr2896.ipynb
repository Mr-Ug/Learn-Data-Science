{
 "cells": [
  {
   "cell_type": "markdown",
   "metadata": {},
   "source": [
    "# DATA STUCTURE"
   ]
  },
  {
   "cell_type": "markdown",
   "metadata": {
    "id": "KaEDsW5JqSds",
    "slideshow": {
     "slide_type": "slide"
    }
   },
   "source": [
    "1.  Lakukan 4 operasi aritmatika (+, -, x, /) dengan dua nilai 10 dan 2, lalu simpan semua hasilnya didalam list dan tampilkan.\n",
    "\n",
    "    Output : [12, 8, 20, 5]"
   ]
  },
  {
   "cell_type": "markdown",
   "metadata": {
    "slideshow": {
     "slide_type": "subslide"
    }
   },
   "source": [
    "<center>\n",
    "<img src=\"Flow Chart Tugas 2 Soal 1.png\" alt=\"Flow Chart\"/>\n",
    "</center>"
   ]
  },
  {
   "cell_type": "code",
   "execution_count": 10,
   "metadata": {
    "id": "MPENGsLFqSd1",
    "slideshow": {
     "slide_type": "slide"
    }
   },
   "outputs": [
    {
     "name": "stdout",
     "output_type": "stream",
     "text": [
      "[12, 8, 20, 5]\n"
     ]
    }
   ],
   "source": [
    "# Jawab soal 1 disini!\n",
    "\n",
    "Num_1 = 10\n",
    "Num_2 = 2\n",
    "Hasil = [Num_1 + Num_2, Num_1 - Num_2, Num_1 * Num_2, Num_1 // Num_2]\n",
    "\n",
    "print(Hasil)"
   ]
  },
  {
   "cell_type": "markdown",
   "metadata": {
    "id": "wXKjNfn-qSd3",
    "slideshow": {
     "slide_type": "slide"
    }
   },
   "source": [
    "2. Dengan menggunakan **\"index\"**, keluarkan nilai dari dua tuple di bawah\n",
    "\n",
    "        a. ('Budi', 'Rani', 'Indah', 'Ilham')\n",
    "        b. (20, 18, 22, 27)\n",
    "\n",
    "   untuk menghasilkan kalimat **\"Rani adalah mahasiswi yang berusia 22 Tahun.\"**"
   ]
  },
  {
   "cell_type": "markdown",
   "metadata": {
    "slideshow": {
     "slide_type": "subslide"
    }
   },
   "source": [
    "<center>\n",
    "<img src=\"Flow Chart Tugas 2 Soal 2.png\" alt=\"Flow Chart\"/>\n",
    "</center>"
   ]
  },
  {
   "cell_type": "code",
   "execution_count": 13,
   "metadata": {
    "id": "J-OcN_GMqSd5",
    "slideshow": {
     "slide_type": "slide"
    }
   },
   "outputs": [
    {
     "name": "stdout",
     "output_type": "stream",
     "text": [
      "Rani adalah mahasiswa yang berusia 22 tahun\n",
      "Rani adalah mahasiswa yang berusia 22 tahun\n",
      "Rani adalah mahasiswa yang berusia 22 tahun\n"
     ]
    }
   ],
   "source": [
    "# Jawab soal 2 disini!\n",
    "# Note : index dari kiri =  0, 1, 2, 3, 4, 5, dst!\n",
    "\n",
    "a = ('Budi','Rani','Indah','Ilham')\n",
    "b = (20, 18, 22, 27)\n",
    "\n",
    "a1 = a[1] # ambil index ke 1 dari kiri di variabel a\n",
    "b1 = b[2] # ambil index ke 2 dari kiri di variabel b\n",
    "\n",
    "# Cara 1\n",
    "print(a[1] + \" adalah mahasiswa yang berusia \" + str(b[2]) + \" tahun\")\n",
    "# Cara 2\n",
    "print(f'{a[1]} adalah mahasiswa yang berusia {str(b[2])} tahun')\n",
    "# Cara 3\n",
    "print(f'{a1} adalah mahasiswa yang berusia {b1} tahun')\n"
   ]
  },
  {
   "cell_type": "markdown",
   "metadata": {
    "id": "pfNNOzGqqSd6",
    "slideshow": {
     "slide_type": "slide"
    }
   },
   "source": [
    "\n",
    "3.  Data = {'Rudi' : 'Bandung', 'Nina' : 'Jakarta', 'Mia' : 'Semarang', 'Indah' : 'Bandung', 'Salman' : 'Surabaya', 'Mikail' : 'Jakarta'}\n",
    "\n",
    "    Dari data dictionary tersebut, keluarkan valuenya tanpa ada pengulangan.\n",
    "\n",
    "    Output : {'Bandung', 'Jakarta', 'Semarang', 'Surabaya'}\n",
    "\n",
    "    Hint - Gunakan Set"
   ]
  },
  {
   "cell_type": "markdown",
   "metadata": {
    "slideshow": {
     "slide_type": "subslide"
    }
   },
   "source": [
    "<center>\n",
    "<img src=\"Flow Chart Tugas 2 Soal 3.png\" alt=\"Flow Chart\"/>\n",
    "</center>"
   ]
  },
  {
   "cell_type": "code",
   "execution_count": 17,
   "metadata": {
    "id": "cVTSnYF8qSd7",
    "slideshow": {
     "slide_type": "slide"
    }
   },
   "outputs": [
    {
     "name": "stdout",
     "output_type": "stream",
     "text": [
      "{'Bandung', 'Semarang', 'Jakarta', 'Surabaya'}\n"
     ]
    }
   ],
   "source": [
    "# Jawab soal 3 disini!\n",
    "\n",
    "Data = {\n",
    "        \"Rudi\" : \"Bandung\",\n",
    "        \"Nina\" : \"Jakarta\",\n",
    "        \"Mia\" : \"Semarang\",\n",
    "        \"Indah\" : \"Bandung\",\n",
    "        \"Salman\" : \"Surabaya\",\n",
    "        \"Mikail\" : \"Jakarta\"\n",
    "}\n",
    "\n",
    "x = Data.values()\n",
    "\n",
    "print(set(x)) #set() digunakan agar tidak ada pengulangan value!"
   ]
  },
  {
   "cell_type": "markdown",
   "metadata": {
    "id": "SymjRGBMtOqm",
    "slideshow": {
     "slide_type": "slide"
    }
   },
   "source": [
    "4.  a = ['1', '13b', 'aa1', 1.32, 22.1, 2.34]\n",
    "    \n",
    "    Dari data list diatas, lakukan metode slicing untuk mendapatkan output yang diharapkan!\n",
    "\n",
    "    Output : ['13b', 'aa1', 1.32, 22.1]"
   ]
  },
  {
   "cell_type": "markdown",
   "metadata": {
    "slideshow": {
     "slide_type": "subslide"
    }
   },
   "source": [
    "<center>\n",
    "<img src=\"Flow Chart Tugas 2 Soal 4.png\" alt=\"Flow Chart\"/>\n",
    "</center>"
   ]
  },
  {
   "cell_type": "code",
   "execution_count": 29,
   "metadata": {
    "id": "GJZS3I0etxKX",
    "slideshow": {
     "slide_type": "slide"
    }
   },
   "outputs": [
    {
     "name": "stdout",
     "output_type": "stream",
     "text": [
      "['13b', 'aa1', 1.32, 22.1]\n",
      "['13b', 'aa1', 1.32, 22.1]\n"
     ]
    }
   ],
   "source": [
    "# Jawab soal 4 disini!\n",
    "# Note : index dari kanan : -1, -2, -3, -4, -5, dst!\n",
    "\n",
    "a = ['1', '13b', 'aa1', 1.32, 22.1, 2.34]\n",
    "\n",
    "print(a[1:-1]) #[Index mulai:Index akhir] -1 hapus index akhir dari kanan\n",
    "print(a[1:5:1]) #[Index mulai : Index akhir : lompatan index]"
   ]
  },
  {
   "cell_type": "markdown",
   "metadata": {
    "id": "j8mfqe9guBjU",
    "slideshow": {
     "slide_type": "slide"
    }
   },
   "source": [
    "5. Gabungkan kedua list di bawah ini!\n",
    "\n",
    "    a = [1, 3, 5]\n",
    "\n",
    "    b = [5, 1, 3]\n",
    "\n",
    "    Output : [5, 1, 3, 1, 3, 5]"
   ]
  },
  {
   "cell_type": "markdown",
   "metadata": {
    "slideshow": {
     "slide_type": "subslide"
    }
   },
   "source": [
    "<center>\n",
    "<img src=\"Flow Chart Tugas 2 Soal 5.png\" alt=\"Flow Chart\"/>\n",
    "</center>"
   ]
  },
  {
   "cell_type": "code",
   "execution_count": 1,
   "metadata": {
    "id": "mJUPQFEruN0t",
    "slideshow": {
     "slide_type": "slide"
    }
   },
   "outputs": [
    {
     "name": "stdout",
     "output_type": "stream",
     "text": [
      "[5, 1, 3, 1, 3, 5]\n"
     ]
    }
   ],
   "source": [
    "# Jawab soal 5 disini!\n",
    "\n",
    "a = [1, 3, 5]\n",
    "b = [5, 1, 3]\n",
    "\n",
    "print(b+a)"
   ]
  },
  {
   "cell_type": "markdown",
   "metadata": {
    "id": "9fMErps3uiDU",
    "slideshow": {
     "slide_type": "slide"
    }
   },
   "source": [
    "6.  areas = [\"hallway\", 11.25, \"kitchen\", 18.0,\n",
    "            \"chill zone\", 20.0, \"bedroom\", 10.75,\n",
    "            \"bathroom\", 10.50, \"poolhouse\", 24.5,\n",
    "            \"garage\", 15.45]\n",
    "\n",
    "    Lakukan perintah print dari data list diatas tanpa elemen yang bernilai \"bathroom\" dan 10.50!\n",
    "\n",
    "    Output : ['hallway', 11.25, 'kitchen', 18.0, 'chill zone', 20.0, 'bedroom', 10.75, 'poolhouse', 24.5, 'garage', 15.45]\n",
    "\n",
    "\n",
    "..."
   ]
  },
  {
   "cell_type": "markdown",
   "metadata": {
    "slideshow": {
     "slide_type": "subslide"
    }
   },
   "source": [
    "<center>\n",
    "<img src=\"Flow Chart Tugas 2 Soal 6.png\" alt=\"Flow Chart\"/>\n",
    "</center>"
   ]
  },
  {
   "cell_type": "code",
   "execution_count": 4,
   "metadata": {
    "id": "EjdPvnFnuwKG",
    "slideshow": {
     "slide_type": "slide"
    }
   },
   "outputs": [
    {
     "name": "stdout",
     "output_type": "stream",
     "text": [
      "['hallway', 11.25, 'kitchen', 18.0, 'chill zone', 20.0, 'bedroom', 10.75, 'poolhouse', 24.5, 'garage', 15.45]\n"
     ]
    }
   ],
   "source": [
    "# Jawab soal 6 disini!\n",
    "\n",
    "areas = [\n",
    "    \"hallway\", 11.25,\n",
    "    \"kitchen\", 18.0,\n",
    "    \"chill zone\", 20.0,\n",
    "    \"bedroom\", 10.75,\n",
    "    \"bathroom\", 10.50,\n",
    "    \"poolhouse\", 24.5,\n",
    "    \"garage\", 15.45\n",
    "    ]\n",
    "\n",
    "# Cara 1\n",
    "del areas[8:10] # del variabel[Index mulai:Index akhir]\n",
    "\n",
    "# Cara 2\n",
    "# areas.remove('bathroom')\n",
    "# areas.remove(10.50)\n",
    "\n",
    "print(areas)"
   ]
  },
  {
   "cell_type": "markdown",
   "metadata": {
    "id": "GTChil2XvR2t",
    "slideshow": {
     "slide_type": "slide"
    }
   },
   "source": [
    "7.  europe =    {\n",
    "\n",
    "                'spain':'madrid',\n",
    "                'france':'paris', \n",
    "                'germany':'bonn', \n",
    "                'norway':'oslo', \n",
    "                'italy':'rome',\n",
    "                'poland':'warsaw',\n",
    "                'australia':'vienna'\n",
    "                }\n",
    "\n",
    "\n",
    "    a. lakukan update nilai ibukota german ke berlin\n",
    "    \n",
    "    b. lakukan remove australia dari europa\n"
   ]
  },
  {
   "cell_type": "markdown",
   "metadata": {
    "slideshow": {
     "slide_type": "subslide"
    }
   },
   "source": [
    "<center>\n",
    "<img src=\"Flow Chart Tugas 2 Soal 7.png\" alt=\"Flow Chart\"/>\n",
    "</center>"
   ]
  },
  {
   "cell_type": "code",
   "execution_count": 8,
   "metadata": {
    "id": "y3BndXSZvl-R",
    "slideshow": {
     "slide_type": "slide"
    }
   },
   "outputs": [
    {
     "name": "stdout",
     "output_type": "stream",
     "text": [
      "{'Spain': 'Madrid', 'France': 'Paris', 'Germany': 'Berlin', 'Norway': 'Oslo', 'Italy': 'Rome', 'Poland': 'Warsaw'}\n"
     ]
    }
   ],
   "source": [
    "# Jawab soal 7 disini!\n",
    "\n",
    "europe = {\n",
    "    \"Spain\" : \"Madrid\",\n",
    "    \"France\" : \"Paris\",\n",
    "    \"Germany\" : \"Bonn\",\n",
    "    \"Norway\" : \"Oslo\",\n",
    "    \"Italy\" : \"Rome\",\n",
    "    \"Poland\" : \"Warsaw\",\n",
    "    \"Australia\" : \"Vienna\"\n",
    "    }\n",
    "\n",
    "europe[\"Germany\"] = \"Berlin\"\n",
    "europe.pop(\"Australia\")\n",
    "\n",
    "print(europe)\n"
   ]
  },
  {
   "cell_type": "markdown",
   "metadata": {
    "id": "Ra6Cxl-vv05z",
    "slideshow": {
     "slide_type": "slide"
    }
   },
   "source": [
    "8.      a = [1, 4, 24, 53, 67, 45, 23, 4, 7, 8, 2, 9, 6, 10, 19, 20, 23, 13, 19]\n",
    "\n",
    "        b = [1, 3, 5, 7, 9, 11, 13, 15, 17, 19, 21, 23]\n",
    "\n",
    "        Dari 2 data list diatas lakukan pencari nilai yang sama, lalu Print dalam bentuk list!\n",
    "\n",
    "        Output : [1, 7, 9, 13, 19, 23]\n",
    "\n"
   ]
  },
  {
   "cell_type": "markdown",
   "metadata": {
    "slideshow": {
     "slide_type": "subslide"
    }
   },
   "source": [
    "<center>\n",
    "<img src=\"Flow Chart Tugas 2 Soal 8.png\" alt=\"Flow Chart\"/>\n",
    "</center>"
   ]
  },
  {
   "cell_type": "code",
   "execution_count": 26,
   "metadata": {
    "id": "ouDKp690wNut",
    "slideshow": {
     "slide_type": "slide"
    }
   },
   "outputs": [
    {
     "name": "stdout",
     "output_type": "stream",
     "text": [
      "{1, 7, 9, 13, 19, 23}\n"
     ]
    }
   ],
   "source": [
    "# Jawab soal 8 disini!\n",
    "\n",
    "a = [1, 4, 24, 53, 67, 45, 23, 4, 7, 8, 2, 9, 6, 10, 19, 20, 23, 13, 19]\n",
    "b = [1, 3, 5, 7, 9, 11, 13, 15, 17, 19, 21, 23]\n",
    "\n",
    "# Cara 1\n",
    "a1 = set(a)\n",
    "b1 = set(b)\n",
    "Hasil = a1.intersection(b1)\n",
    "\n",
    "print(Hasil)"
   ]
  }
 ],
 "metadata": {
  "celltoolbar": "Slideshow",
  "colab": {
   "collapsed_sections": [],
   "name": "tugas_2.ipynb",
   "provenance": []
  },
  "kernelspec": {
   "display_name": "Python 3 (ipykernel)",
   "language": "python",
   "name": "python3"
  },
  "language_info": {
   "codemirror_mode": {
    "name": "ipython",
    "version": 3
   },
   "file_extension": ".py",
   "mimetype": "text/x-python",
   "name": "python",
   "nbconvert_exporter": "python",
   "pygments_lexer": "ipython3",
   "version": "3.9.13"
  },
  "vscode": {
   "interpreter": {
    "hash": "81794d4967e6c3204c66dcd87b604927b115b27c00565d3d43f05ba2f3a2cb0d"
   }
  }
 },
 "nbformat": 4,
 "nbformat_minor": 1
}
